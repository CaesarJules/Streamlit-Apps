{
  "nbformat": 4,
  "nbformat_minor": 0,
  "metadata": {
    "colab": {
      "name": "covid_stats_analysis.ipynb",
      "provenance": [],
      "collapsed_sections": []
    },
    "kernelspec": {
      "name": "python3",
      "display_name": "Python 3"
    },
    "language_info": {
      "name": "python"
    },
    "accelerator": "GPU"
  },
  "cells": [
    {
      "cell_type": "code",
      "execution_count": null,
      "metadata": {
        "colab": {
          "base_uri": "https://localhost:8080/"
        },
        "id": "JByqFQcl6nkg",
        "outputId": "a311d8e0-a204-42be-c6b0-0849fd057cca"
      },
      "outputs": [
        {
          "output_type": "stream",
          "name": "stdout",
          "text": [
            "Drive already mounted at /content/drive/; to attempt to forcibly remount, call drive.mount(\"/content/drive/\", force_remount=True).\n"
          ]
        }
      ],
      "source": [
        "from google.colab import drive\n",
        "drive.mount('/content/drive/')"
      ]
    },
    {
      "cell_type": "code",
      "source": [
        "pip install pickle5"
      ],
      "metadata": {
        "colab": {
          "base_uri": "https://localhost:8080/"
        },
        "id": "GMUdDu0jxAOf",
        "outputId": "539258e6-3ed4-48a8-99fe-beaa4547b181"
      },
      "execution_count": null,
      "outputs": [
        {
          "output_type": "stream",
          "name": "stdout",
          "text": [
            "Requirement already satisfied: pickle5 in /usr/local/lib/python3.7/dist-packages (0.0.12)\n"
          ]
        }
      ]
    },
    {
      "cell_type": "code",
      "source": [
        "import json \n",
        "import pandas as pd\n",
        "import requests\n",
        "import datetime\n",
        "from collections import defaultdict\n",
        "import pickle5 as pickle\n",
        "import os\n",
        "import numpy as np\n",
        "\n",
        "path = \"/content/drive/My Drive/winter2022/Projects/Covid19Tracker\""
      ],
      "metadata": {
        "id": "ZmmD-pIn63WW"
      },
      "execution_count": null,
      "outputs": []
    },
    {
      "cell_type": "code",
      "source": [
        "import pandas as pd\n",
        "import numpy as np\n",
        "import requests\n",
        "from plotly.offline import iplot\n",
        "import plotly.graph_objs as go\n",
        "import plotly.express as px\n",
        "import json \n",
        "import datetime\n",
        "from collections import defaultdict\n",
        "import pickle5\n",
        "import os\n",
        "import warnings\n",
        "from IPython.display import Markdown as md\n",
        "from pytz import timezone"
      ],
      "metadata": {
        "id": "0wRgENyfC8U6"
      },
      "execution_count": null,
      "outputs": []
    },
    {
      "cell_type": "code",
      "source": [
        "def get_dates_till_today(start_date):\n",
        "  return pd.date_range(end=datetime.datetime.today(), start=start_date).strftime('%Y-%m-%d').tolist()\n",
        "\n",
        "def get_region_report(region_name, date, df):\n",
        "  url = \"https://covid-19-statistics.p.rapidapi.com\"\n",
        "  headers = {\n",
        "      'x-rapidapi-host': 'covid-19-statistics.p.rapidapi.com',\n",
        "      'x-rapidapi-key': '44e824ba26mshbd88513db1a43d3p174f66jsn2f60602ce307'\n",
        "    }\n",
        "  #Get countries names and iso\n",
        "  response = requests.request(method=\"GET\", url=f\"{url}/reports\", \n",
        "              params={'iso': df.loc[df.name == region_name, 'iso'], \n",
        "                'region_name': region_name, 'date': date}, headers=headers)\n",
        "  response_json = json.loads(response.text)\n",
        "\n",
        "  if len(response_json) > 0 and 'data' in response_json:\n",
        "    return response_json['data']\n",
        "\n",
        "  return []\n",
        "\n",
        "def get_worldwide_data(date):\n",
        "    url = \"https://covid-19-statistics.p.rapidapi.com\"\n",
        "    headers = {\n",
        "        'x-rapidapi-host': 'covid-19-statistics.p.rapidapi.com',\n",
        "        'x-rapidapi-key': '44e824ba26mshbd88513db1a43d3p174f66jsn2f60602ce307'\n",
        "    }\n",
        "    #Get countries names and iso\n",
        "    response = requests.request(method=\"GET\", url=f\"{url}/reports/total\",params={'date':date}, headers=headers)\n",
        "    #json.loads(response.text)['data']\n",
        "    response_json = json.loads(response.text)\n",
        "\n",
        "    if len(response_json) > 0 and 'data' in response_json:\n",
        "      return response_json['data']\n",
        "\n",
        "    return []\n",
        "\n",
        "def get_latest_worldwide_data():\n",
        "    url = \"https://covid-19-statistics.p.rapidapi.com\"\n",
        "    headers = {\n",
        "        'x-rapidapi-host': 'covid-19-statistics.p.rapidapi.com',\n",
        "        'x-rapidapi-key': '44e824ba26mshbd88513db1a43d3p174f66jsn2f60602ce307'\n",
        "    }\n",
        "    #Get countries names and iso\n",
        "    response = requests.request(method=\"GET\", url=f\"{url}/reports/total\", headers=headers)\n",
        "    #json.loads(response.text)['data']\n",
        "    response_json = json.loads(response.text)\n",
        "\n",
        "    if len(response_json) > 0 and 'data' in response_json:\n",
        "      return response_json['data']\n",
        "\n",
        "    return []\n",
        "\n",
        "def get_countries_data(dates, regions, df_regions):\n",
        "  temp = defaultdict(list)\n",
        "  result = defaultdict(dict)\n",
        "  for region in regions:\n",
        "    for date in dates:\n",
        "      sol = {'confirmed_diff':0, 'deaths_diff':0, 'date':date}\n",
        "      data = get_region_report(region, date, df_regions)\n",
        "      if len(data)> 0:\n",
        "        for report in data:\n",
        "          sol['confirmed_diff'] += report['confirmed_diff']\n",
        "          sol['deaths_diff'] += report['deaths_diff']\n",
        "      temp[region].append(sol)\n",
        "\n",
        "  for region in regions:\n",
        "    result[region]['confirmed_diff'] = np.array([sub['confirmed_diff'] for sub in temp[region]])\n",
        "    result[region]['deaths_diff'] = np.array([sub['deaths_diff'] for sub in temp[region]])\n",
        "  result['dates'] = np.array(dates)\n",
        "\n",
        "  #Get global data and append it to the result\n",
        "  glob_data = defaultdict(list)\n",
        "  for date in dates:\n",
        "    data = get_worldwide_data(date)\n",
        "    if len(data)>0:\n",
        "      glob_data['global_conf_diff'].append(data['confirmed_diff'])\n",
        "      glob_data['global_deaths_diff'].append(data['deaths_diff'])\n",
        "\n",
        "  result['global_conf_diff'] = np.array(glob_data['global_conf_diff'])\n",
        "  result['global_deaths_diff'] = np.array(glob_data['global_deaths_diff'])\n",
        "\n",
        "  return result\n",
        "\n",
        "def get_latest_weekly_data(data, regions, n_weeks):\n",
        "  sol = {'conf_per_rgn': np.array([np.sum(data[rgn]['confirmed_diff'][-(7*n_weeks):]) for rgn in regions]), 'deaths_per_rgn': np.array([np.sum(data[rgn]['deaths_diff'][-(7*n_weeks):]) for rgn in regions])}\n",
        "  return sol\n",
        "\n",
        "def get_optimized_regions_data(data, regions):\n",
        "  result = data.copy()\n",
        "  #Get new cases globally and per region\n",
        "  #New cases equals to the average of confirmed cases over the last 7 days\n",
        "  result['global_new_cases'] = np.array([np.mean(result['global_conf_diff'][-8:-1]), \n",
        "  np.mean(result['global_conf_diff'][-7:])])\n",
        "  result['new_cases_per_rgn'] = {k:np.mean(result[k]['confirmed_diff'][-7:]) for k in regions}\n",
        "  result['top5_rgn_new_cases'] = sorted(result['new_cases_per_rgn'].items(), key=lambda x: x[1], reverse=True)[:5]\n",
        "\n",
        "  #Get the data for the latest 1 to 5 weeks\n",
        "  for i in range(1,6):\n",
        "    result[f\"top{i}_wk\"] = get_latest_weekly_data(result, regions, i)\n",
        "  \n",
        "  return result.copy()\n",
        "\n",
        "def update_cached_data(data, new_data, regions):\n",
        "  old_data = data.copy()\n",
        "  for rgn in regions:\n",
        "    old_data[rgn]['confirmed_diff'] = np.append(old_data[rgn]['confirmed_diff'][:-1], \n",
        "    new_data[rgn]['confirmed_diff'])\n",
        "    old_data[rgn]['deaths_diff'] = np.append(old_data[rgn]['deaths_diff'][:-1], \n",
        "    new_data[rgn]['deaths_diff'])\n",
        "\n",
        "  old_data['dates'] = np.append(old_data['dates'][:-1], new_data['dates'])\n",
        "  old_data['global_conf_diff'] = np.append(old_data['global_conf_diff'][:-1], new_data['global_conf_diff'])\n",
        "  old_data['global_deaths_diff'] = np.append(old_data['global_deaths_diff'][:-1], \n",
        "  new_data['global_deaths_diff'])\n",
        "\n",
        "  return old_data.copy()"
      ],
      "metadata": {
        "id": "zZo9aD2AB77v"
      },
      "execution_count": null,
      "outputs": []
    },
    {
      "cell_type": "code",
      "source": [
        "#Initialize the starting date in our data\n",
        "initial_date = datetime.datetime.today()\n",
        "dates = get_dates_till_today(initial_date)\n",
        "\n",
        "def get_regions_list():\n",
        "    url = \"https://covid-19-statistics.p.rapidapi.com\"\n",
        "    headers = {\n",
        "        'x-rapidapi-host': 'covid-19-statistics.p.rapidapi.com',\n",
        "        'x-rapidapi-key': '96a36f8da6msh9ee894aabc7ae5bp196263jsn8dfae3d97a64'\n",
        "    }\n",
        "    #Get countries names and iso\n",
        "    response = requests.request(method=\"GET\", url=f\"{url}/regions\", headers=headers)\n",
        "    #json.loads(response.text)['data']\n",
        "    response_json = json.loads(response.text)['data']\n",
        "\n",
        "    return pd.json_normalize(response_json)\n",
        "\n",
        "df_regions = get_regions_list()\n",
        "df_regions = df_regions.sort_values('name').reset_index(drop=True)\n",
        "regions = list(df_regions.name)\n",
        "#Clean the list of regions\n",
        "regions = [x for x in regions if x not in ['Others','Cruise Ship']]\n",
        "iso = [df_regions.loc[df_regions.name==rgn, 'iso'].values[0] for rgn in regions]\n"
      ],
      "metadata": {
        "id": "E81MNND9B8hd"
      },
      "execution_count": null,
      "outputs": []
    },
    {
      "cell_type": "code",
      "source": [
        "def cache_data(data, latest_date, regions, df_regions):\n",
        "    time1 = datetime.datetime.strptime(datetime.datetime.now(timezone('Canada/Eastern')).strftime('%Y-%m-%d'), '%Y-%m-%d')\n",
        "    if time1 > (latest_date + datetime.timedelta(days=1)):\n",
        "        new_dates = get_dates_till_today(latest_date)\n",
        "        #Remove today's date from the dates to be cached\n",
        "        del new_dates[-1]\n",
        "        if len(new_dates)>0:\n",
        "            new_data = get_countries_data(new_dates, regions, df_regions)\n",
        "            #Update the data\n",
        "            #Debugging !!!!\n",
        "            #st.write(\"Caching the data!!!\")\n",
        "\n",
        "            temp = update_cached_data(data, new_data, regions)\n",
        "            data = get_optimized_regions_data(temp, regions)\n",
        "            #Cache the new data\n",
        "            with open(f\"{path}/data/cache_final.p\", 'wb') as fp:\n",
        "                pickle.dump(data, fp, protocol=pickle.HIGHEST_PROTOCOL)"
      ],
      "metadata": {
        "id": "ypCpQJsyB9GI"
      },
      "execution_count": null,
      "outputs": []
    },
    {
      "cell_type": "code",
      "source": [
        "def load_cache(filepath=f\"{path}/data/cache_final.p\"):\n",
        "    #Check first if there is a cached file and if it can be accessed\n",
        "    if os.path.isfile(filepath) and os.access(filepath, os.R_OK):\n",
        "        with open(filepath, 'rb') as fp:\n",
        "            return pickle5.load(fp)\n",
        "    else:\n",
        "        return {}\n",
        "\n",
        "cached_data = load_cache()\n",
        "\n",
        "#Use the first date in the data to cache all data\n",
        "latest_cache_date = initial_date\n",
        "data = dict()"
      ],
      "metadata": {
        "id": "eAu81_7sP5NP"
      },
      "execution_count": null,
      "outputs": []
    },
    {
      "cell_type": "code",
      "source": [
        "cached_data['dates'][-5:]"
      ],
      "metadata": {
        "colab": {
          "base_uri": "https://localhost:8080/"
        },
        "id": "I3owkUdyuOcY",
        "outputId": "b0be37e8-398d-4998-c965-259a970d45bb"
      },
      "execution_count": null,
      "outputs": [
        {
          "output_type": "execute_result",
          "data": {
            "text/plain": [
              "array(['2022-01-21', '2022-01-22', '2022-01-23', '2022-01-24',\n",
              "       '2022-01-25'], dtype='<U10')"
            ]
          },
          "metadata": {},
          "execution_count": 63
        }
      ]
    },
    {
      "cell_type": "code",
      "source": [
        "#Use the first date in the data to cache all data\n",
        "latest_cache_date = initial_date\n",
        "data = dict()\n",
        "\n",
        "if len(cached_data)>0:\n",
        "    #Get the latest cache date\n",
        "    data = cached_data.copy()\n",
        "    temp = data['dates'][-1]\n",
        "    latest_cache_date = datetime.datetime.strptime(temp, '%Y-%m-%d')\n",
        "    #Update the initial date to the first date in our cached data\n",
        "    initial_date = data['dates'][0]\n",
        "    initial_date = datetime.datetime.strptime(initial_date, '%Y-%m-%d')\n",
        "    dates = get_dates_till_today(initial_date)\n",
        "    #Update cached data  \n",
        "    cache_data(data, latest_cache_date, regions, df_regions)\n",
        "else:\n",
        "    print(\"Error, No cache found!!!\")"
      ],
      "metadata": {
        "id": "evVgCz8VDRt8"
      },
      "execution_count": null,
      "outputs": []
    },
    {
      "cell_type": "code",
      "source": [
        ""
      ],
      "metadata": {
        "id": "6j3Lc8ZUcs2R"
      },
      "execution_count": null,
      "outputs": []
    },
    {
      "cell_type": "code",
      "source": [
        "def get_regions_list():\n",
        "    url = \"https://covid-19-statistics.p.rapidapi.com\"\n",
        "    headers = {\n",
        "        'x-rapidapi-host': 'covid-19-statistics.p.rapidapi.com',\n",
        "        'x-rapidapi-key': '44e824ba26mshbd88513db1a43d3p174f66jsn2f60602ce307'\n",
        "    }\n",
        "    #Get countries names and iso\n",
        "    response = requests.request(method=\"GET\", url=f\"{url}/regions\", headers=headers)\n",
        "    #json.loads(response.text)['data']\n",
        "    response_json = json.loads(response.text)['data']\n",
        "\n",
        "    return pd.json_normalize(response_json)\n",
        "\n",
        "df_regions = get_regions_list()\n",
        "df_regions = df_regions.sort_values('name').reset_index(drop=True)\n",
        "regions = list(df_regions.name)\n",
        "#Clean the list of regions\n",
        "regions = [x for x in regions if x not in ['Others','Cruise Ship']]\n",
        "iso = [df_regions.loc[df_regions.name==rgn, 'iso'].values[0] for rgn in regions]"
      ],
      "metadata": {
        "id": "5Mnwt-GIUCT8"
      },
      "execution_count": null,
      "outputs": []
    },
    {
      "cell_type": "code",
      "source": [
        "def get_latest_worldwide_data():\n",
        "    url = \"https://covid-19-statistics.p.rapidapi.com\"\n",
        "    headers = {\n",
        "        'x-rapidapi-host': 'covid-19-statistics.p.rapidapi.com',\n",
        "        'x-rapidapi-key': '44e824ba26mshbd88513db1a43d3p174f66jsn2f60602ce307'\n",
        "    }\n",
        "    #Get countries names and iso\n",
        "    response = requests.request(method=\"GET\", url=f\"{url}/reports/total\", headers=headers)\n",
        "    #json.loads(response.text)['data']\n",
        "    response_json = json.loads(response.text)\n",
        "\n",
        "    if len(response_json) > 0:\n",
        "      return response_json['data']\n",
        "\n",
        "    return []\n",
        "tt = get_latest_worldwide_data()"
      ],
      "metadata": {
        "id": "LP99KM_BAC_h"
      },
      "execution_count": null,
      "outputs": []
    },
    {
      "cell_type": "code",
      "source": [
        "datetime.datetime.strptime(tt['last_update'], '%Y-%m-%d %H:%M:%S').strftime('%A %B %d, %Y at %I:%M %p')"
      ],
      "metadata": {
        "colab": {
          "base_uri": "https://localhost:8080/",
          "height": 35
        },
        "id": "STfv2eKDX9ps",
        "outputId": "5f907d9e-a045-41c7-cbe1-6c664c679d73"
      },
      "execution_count": null,
      "outputs": [
        {
          "output_type": "execute_result",
          "data": {
            "application/vnd.google.colaboratory.intrinsic+json": {
              "type": "string"
            },
            "text/plain": [
              "'Thursday January 13, 2022 at 08:00 AM'"
            ]
          },
          "metadata": {},
          "execution_count": 30
        }
      ]
    },
    {
      "cell_type": "code",
      "source": [
        "def get_region_report(region_name, date, df=df_regions):\n",
        "  url = \"https://covid-19-statistics.p.rapidapi.com\"\n",
        "  headers = {\n",
        "      'x-rapidapi-host': 'covid-19-statistics.p.rapidapi.com',\n",
        "      'x-rapidapi-key': '44e824ba26mshbd88513db1a43d3p174f66jsn2f60602ce307'\n",
        "    }\n",
        "  #Get countries names and iso\n",
        "  response = requests.request(method=\"GET\", url=f\"{url}/reports\", \n",
        "              params={'iso': df.loc[df.name == region_name, 'iso'], \n",
        "                'region_name': region_name, 'date': date}, headers=headers)\n",
        "  response_json = json.loads(response.text)\n",
        "\n",
        "  if len(response_json) > 0:\n",
        "    return response_json['data']\n",
        "\n",
        "  return []\n",
        "\n",
        "\n",
        "def get_countries_data(dates, regions=regions):\n",
        "  temp = defaultdict(list)\n",
        "  result = defaultdict(dict)\n",
        "  for region in regions:\n",
        "    for date in dates:\n",
        "      sol = {'confirmed_diff':0, 'deaths_diff':0, 'date':date}\n",
        "      data = get_region_report(region, date)\n",
        "      if len(data)> 0:\n",
        "        for report in data:\n",
        "          sol['confirmed_diff'] += report['confirmed_diff']\n",
        "          sol['deaths_diff'] += report['deaths_diff']\n",
        "      temp[region].append(sol)\n",
        "\n",
        "  for region in regions:\n",
        "    result[region]['confirmed_diff'] = np.array([sub['confirmed_diff'] for sub in temp[region]])\n",
        "    result[region]['deaths_diff'] = np.array([sub['deaths_diff'] for sub in temp[region]])\n",
        "  result['dates'] = np.array(dates)\n",
        "\n",
        "  #Get global data and append it to the result\n",
        "  glob_data = defaultdict(list)\n",
        "  for date in dates:\n",
        "    data = get_worldwide_data(date)\n",
        "    glob_data['global_conf_diff'].append(data['confirmed_diff'])\n",
        "    glob_data['global_deaths_diff'].append(data['deaths_diff'])\n",
        "\n",
        "  result['global_conf_diff'] = np.array(glob_data['global_conf_diff'])\n",
        "  result['global_deaths_diff'] = np.array(glob_data['global_deaths_diff'])\n",
        "\n",
        "  return result\n",
        "\n",
        "def get_latest_weekly_data(data, regions, n_weeks):\n",
        "  sol = {'conf_per_rgn': np.array([np.sum(data[rgn]['confirmed_diff'][-(7*n_weeks):]) for rgn in regions]),  \n",
        "          'deaths_per_rgn': np.array([np.sum(data[rgn]['deaths_diff'][-(7*n_weeks):]) for rgn in regions])}\n",
        "  return sol\n",
        "\n",
        "def get_optimized_regions_data(data, regions=regions):\n",
        "  result = data.copy()\n",
        "  #Get new cases globally and per region\n",
        "  #New cases equals to the average of confirmed cases over the last 7 days\n",
        "  result['global_new_cases'] = np.array([np.mean(result['global_conf_diff'][-8:-1]), np.mean(result['global_conf_diff'][-7:])])\n",
        "  result['new_cases_per_rgn'] = {k:np.mean(result[k]['confirmed_diff'][-7:]) for k in regions}\n",
        "  result['top5_rgn_new_cases'] = sorted(result['new_cases_per_rgn'].items(), key=lambda x: x[1], reverse=True)[:5]\n",
        "\n",
        "  #Get the data for the latest 1 to 5 weeks\n",
        "  for i in range(1,6):\n",
        "    result[f\"top{i}_wk\"] = get_latest_weekly_data(result, regions, i)\n",
        "  \n",
        "  return result.copy()\n",
        "\n",
        "def update_cached_data(data, new_data, regions=regions):\n",
        "  old_data = data.copy()\n",
        "  for region in regions:\n",
        "    old_data[rgn]['confirmed_diff'] = np.append(old_data[rgn]['confirmed_diff'][:-1], new_data[rgn]['confirmed_diff'])\n",
        "    old_data[rgn]['deaths_diff'] = np.append(old_data[rgn]['deaths_diff'][:-1], new_data[rgn]['deaths_diff'])\n",
        "\n",
        "  old_data['dates'] = np.append(old_data['dates'][:-1], new_data['dates'])\n",
        "  old_data['global_conf_diff'] = np.append(old_data['global_conf_diff'][:-1], new_data['global_conf_diff'])\n",
        "  old_data['global_deaths_diff'] = np.append(old_data['global_deaths_diff'][:-1], new_data['global_deaths_diff'])\n",
        "\n",
        "  return old_data.copy()\n",
        "\n",
        "\n",
        "\n",
        "def get_dates_till_today(start_date):\n",
        "  return pd.date_range(end='2022-01-10', start=start_date).strftime('%Y-%m-%d').tolist()\n",
        "\n",
        "dates = get_dates_till_today('2021-11-01')\n",
        "\n"
      ],
      "metadata": {
        "id": "CrG3AN7jvzvH"
      },
      "execution_count": null,
      "outputs": []
    },
    {
      "cell_type": "code",
      "source": [
        "list(data.keys())[-11:]"
      ],
      "metadata": {
        "colab": {
          "base_uri": "https://localhost:8080/"
        },
        "id": "ZEhc8VhlLowQ",
        "outputId": "84989f30-a925-4d4c-f48d-2ba4e26907fc"
      },
      "execution_count": null,
      "outputs": [
        {
          "output_type": "execute_result",
          "data": {
            "text/plain": [
              "['dates',\n",
              " 'global_conf_diff',\n",
              " 'global_deaths_diff',\n",
              " 'global_new_cases',\n",
              " 'new_cases_per_rgn',\n",
              " 'top5_rgn_new_cases',\n",
              " 'top1_wk',\n",
              " 'top2_wk',\n",
              " 'top3_wk',\n",
              " 'top4_wk',\n",
              " 'top5_wk']"
            ]
          },
          "metadata": {},
          "execution_count": 24
        }
      ]
    },
    {
      "cell_type": "code",
      "source": [
        "countries = ['Albania','US']\n",
        "chart_data = [data[x]['confirmed_diff'] for x in countries]\n",
        "df = pd.DataFrame(chart_data).transpose()\n",
        "df.columns = countries\n",
        "df"
      ],
      "metadata": {
        "colab": {
          "base_uri": "https://localhost:8080/",
          "height": 424
        },
        "id": "7hN8FR0a9a1K",
        "outputId": "671bbfcf-7544-4a7a-9146-a5cb31ab455d"
      },
      "execution_count": null,
      "outputs": [
        {
          "output_type": "execute_result",
          "data": {
            "text/html": [
              "\n",
              "  <div id=\"df-85256d69-1fed-41af-8613-3b64c3e94ab9\">\n",
              "    <div class=\"colab-df-container\">\n",
              "      <div>\n",
              "<style scoped>\n",
              "    .dataframe tbody tr th:only-of-type {\n",
              "        vertical-align: middle;\n",
              "    }\n",
              "\n",
              "    .dataframe tbody tr th {\n",
              "        vertical-align: top;\n",
              "    }\n",
              "\n",
              "    .dataframe thead th {\n",
              "        text-align: right;\n",
              "    }\n",
              "</style>\n",
              "<table border=\"1\" class=\"dataframe\">\n",
              "  <thead>\n",
              "    <tr style=\"text-align: right;\">\n",
              "      <th></th>\n",
              "      <th>Albania</th>\n",
              "      <th>US</th>\n",
              "    </tr>\n",
              "  </thead>\n",
              "  <tbody>\n",
              "    <tr>\n",
              "      <th>0</th>\n",
              "      <td>197</td>\n",
              "      <td>121139</td>\n",
              "    </tr>\n",
              "    <tr>\n",
              "      <th>1</th>\n",
              "      <td>725</td>\n",
              "      <td>77088</td>\n",
              "    </tr>\n",
              "    <tr>\n",
              "      <th>2</th>\n",
              "      <td>571</td>\n",
              "      <td>83501</td>\n",
              "    </tr>\n",
              "    <tr>\n",
              "      <th>3</th>\n",
              "      <td>570</td>\n",
              "      <td>82343</td>\n",
              "    </tr>\n",
              "    <tr>\n",
              "      <th>4</th>\n",
              "      <td>631</td>\n",
              "      <td>101111</td>\n",
              "    </tr>\n",
              "    <tr>\n",
              "      <th>...</th>\n",
              "      <td>...</td>\n",
              "      <td>...</td>\n",
              "    </tr>\n",
              "    <tr>\n",
              "      <th>69</th>\n",
              "      <td>4789</td>\n",
              "      <td>305100</td>\n",
              "    </tr>\n",
              "    <tr>\n",
              "      <th>70</th>\n",
              "      <td>793</td>\n",
              "      <td>1485764</td>\n",
              "    </tr>\n",
              "    <tr>\n",
              "      <th>71</th>\n",
              "      <td>793</td>\n",
              "      <td>1485764</td>\n",
              "    </tr>\n",
              "    <tr>\n",
              "      <th>72</th>\n",
              "      <td>793</td>\n",
              "      <td>1485764</td>\n",
              "    </tr>\n",
              "    <tr>\n",
              "      <th>73</th>\n",
              "      <td>2177</td>\n",
              "      <td>750047</td>\n",
              "    </tr>\n",
              "  </tbody>\n",
              "</table>\n",
              "<p>74 rows × 2 columns</p>\n",
              "</div>\n",
              "      <button class=\"colab-df-convert\" onclick=\"convertToInteractive('df-85256d69-1fed-41af-8613-3b64c3e94ab9')\"\n",
              "              title=\"Convert this dataframe to an interactive table.\"\n",
              "              style=\"display:none;\">\n",
              "        \n",
              "  <svg xmlns=\"http://www.w3.org/2000/svg\" height=\"24px\"viewBox=\"0 0 24 24\"\n",
              "       width=\"24px\">\n",
              "    <path d=\"M0 0h24v24H0V0z\" fill=\"none\"/>\n",
              "    <path d=\"M18.56 5.44l.94 2.06.94-2.06 2.06-.94-2.06-.94-.94-2.06-.94 2.06-2.06.94zm-11 1L8.5 8.5l.94-2.06 2.06-.94-2.06-.94L8.5 2.5l-.94 2.06-2.06.94zm10 10l.94 2.06.94-2.06 2.06-.94-2.06-.94-.94-2.06-.94 2.06-2.06.94z\"/><path d=\"M17.41 7.96l-1.37-1.37c-.4-.4-.92-.59-1.43-.59-.52 0-1.04.2-1.43.59L10.3 9.45l-7.72 7.72c-.78.78-.78 2.05 0 2.83L4 21.41c.39.39.9.59 1.41.59.51 0 1.02-.2 1.41-.59l7.78-7.78 2.81-2.81c.8-.78.8-2.07 0-2.86zM5.41 20L4 18.59l7.72-7.72 1.47 1.35L5.41 20z\"/>\n",
              "  </svg>\n",
              "      </button>\n",
              "      \n",
              "  <style>\n",
              "    .colab-df-container {\n",
              "      display:flex;\n",
              "      flex-wrap:wrap;\n",
              "      gap: 12px;\n",
              "    }\n",
              "\n",
              "    .colab-df-convert {\n",
              "      background-color: #E8F0FE;\n",
              "      border: none;\n",
              "      border-radius: 50%;\n",
              "      cursor: pointer;\n",
              "      display: none;\n",
              "      fill: #1967D2;\n",
              "      height: 32px;\n",
              "      padding: 0 0 0 0;\n",
              "      width: 32px;\n",
              "    }\n",
              "\n",
              "    .colab-df-convert:hover {\n",
              "      background-color: #E2EBFA;\n",
              "      box-shadow: 0px 1px 2px rgba(60, 64, 67, 0.3), 0px 1px 3px 1px rgba(60, 64, 67, 0.15);\n",
              "      fill: #174EA6;\n",
              "    }\n",
              "\n",
              "    [theme=dark] .colab-df-convert {\n",
              "      background-color: #3B4455;\n",
              "      fill: #D2E3FC;\n",
              "    }\n",
              "\n",
              "    [theme=dark] .colab-df-convert:hover {\n",
              "      background-color: #434B5C;\n",
              "      box-shadow: 0px 1px 3px 1px rgba(0, 0, 0, 0.15);\n",
              "      filter: drop-shadow(0px 1px 2px rgba(0, 0, 0, 0.3));\n",
              "      fill: #FFFFFF;\n",
              "    }\n",
              "  </style>\n",
              "\n",
              "      <script>\n",
              "        const buttonEl =\n",
              "          document.querySelector('#df-85256d69-1fed-41af-8613-3b64c3e94ab9 button.colab-df-convert');\n",
              "        buttonEl.style.display =\n",
              "          google.colab.kernel.accessAllowed ? 'block' : 'none';\n",
              "\n",
              "        async function convertToInteractive(key) {\n",
              "          const element = document.querySelector('#df-85256d69-1fed-41af-8613-3b64c3e94ab9');\n",
              "          const dataTable =\n",
              "            await google.colab.kernel.invokeFunction('convertToInteractive',\n",
              "                                                     [key], {});\n",
              "          if (!dataTable) return;\n",
              "\n",
              "          const docLinkHtml = 'Like what you see? Visit the ' +\n",
              "            '<a target=\"_blank\" href=https://colab.research.google.com/notebooks/data_table.ipynb>data table notebook</a>'\n",
              "            + ' to learn more about interactive tables.';\n",
              "          element.innerHTML = '';\n",
              "          dataTable['output_type'] = 'display_data';\n",
              "          await google.colab.output.renderOutput(dataTable, element);\n",
              "          const docLink = document.createElement('div');\n",
              "          docLink.innerHTML = docLinkHtml;\n",
              "          element.appendChild(docLink);\n",
              "        }\n",
              "      </script>\n",
              "    </div>\n",
              "  </div>\n",
              "  "
            ],
            "text/plain": [
              "    Albania       US\n",
              "0       197   121139\n",
              "1       725    77088\n",
              "2       571    83501\n",
              "3       570    82343\n",
              "4       631   101111\n",
              "..      ...      ...\n",
              "69     4789   305100\n",
              "70      793  1485764\n",
              "71      793  1485764\n",
              "72      793  1485764\n",
              "73     2177   750047\n",
              "\n",
              "[74 rows x 2 columns]"
            ]
          },
          "metadata": {},
          "execution_count": 21
        }
      ]
    },
    {
      "cell_type": "code",
      "source": [
        "import plotly.express as px\n",
        "\n",
        "df = px.data.gapminder().query(\"continent=='Oceania'\")\n",
        "df.head()"
      ],
      "metadata": {
        "colab": {
          "base_uri": "https://localhost:8080/",
          "height": 206
        },
        "id": "I4I15rf6bZJl",
        "outputId": "ea5a9329-11bf-4823-bc22-d5246ce001fc"
      },
      "execution_count": null,
      "outputs": [
        {
          "output_type": "execute_result",
          "data": {
            "text/html": [
              "\n",
              "  <div id=\"df-350812f5-985b-40bf-bb86-6cf4eb0f3b06\">\n",
              "    <div class=\"colab-df-container\">\n",
              "      <div>\n",
              "<style scoped>\n",
              "    .dataframe tbody tr th:only-of-type {\n",
              "        vertical-align: middle;\n",
              "    }\n",
              "\n",
              "    .dataframe tbody tr th {\n",
              "        vertical-align: top;\n",
              "    }\n",
              "\n",
              "    .dataframe thead th {\n",
              "        text-align: right;\n",
              "    }\n",
              "</style>\n",
              "<table border=\"1\" class=\"dataframe\">\n",
              "  <thead>\n",
              "    <tr style=\"text-align: right;\">\n",
              "      <th></th>\n",
              "      <th>country</th>\n",
              "      <th>continent</th>\n",
              "      <th>year</th>\n",
              "      <th>lifeExp</th>\n",
              "      <th>pop</th>\n",
              "      <th>gdpPercap</th>\n",
              "      <th>iso_alpha</th>\n",
              "      <th>iso_num</th>\n",
              "    </tr>\n",
              "  </thead>\n",
              "  <tbody>\n",
              "    <tr>\n",
              "      <th>60</th>\n",
              "      <td>Australia</td>\n",
              "      <td>Oceania</td>\n",
              "      <td>1952</td>\n",
              "      <td>69.12</td>\n",
              "      <td>8691212</td>\n",
              "      <td>10039.59564</td>\n",
              "      <td>AUS</td>\n",
              "      <td>36</td>\n",
              "    </tr>\n",
              "    <tr>\n",
              "      <th>61</th>\n",
              "      <td>Australia</td>\n",
              "      <td>Oceania</td>\n",
              "      <td>1957</td>\n",
              "      <td>70.33</td>\n",
              "      <td>9712569</td>\n",
              "      <td>10949.64959</td>\n",
              "      <td>AUS</td>\n",
              "      <td>36</td>\n",
              "    </tr>\n",
              "    <tr>\n",
              "      <th>62</th>\n",
              "      <td>Australia</td>\n",
              "      <td>Oceania</td>\n",
              "      <td>1962</td>\n",
              "      <td>70.93</td>\n",
              "      <td>10794968</td>\n",
              "      <td>12217.22686</td>\n",
              "      <td>AUS</td>\n",
              "      <td>36</td>\n",
              "    </tr>\n",
              "    <tr>\n",
              "      <th>63</th>\n",
              "      <td>Australia</td>\n",
              "      <td>Oceania</td>\n",
              "      <td>1967</td>\n",
              "      <td>71.10</td>\n",
              "      <td>11872264</td>\n",
              "      <td>14526.12465</td>\n",
              "      <td>AUS</td>\n",
              "      <td>36</td>\n",
              "    </tr>\n",
              "    <tr>\n",
              "      <th>64</th>\n",
              "      <td>Australia</td>\n",
              "      <td>Oceania</td>\n",
              "      <td>1972</td>\n",
              "      <td>71.93</td>\n",
              "      <td>13177000</td>\n",
              "      <td>16788.62948</td>\n",
              "      <td>AUS</td>\n",
              "      <td>36</td>\n",
              "    </tr>\n",
              "  </tbody>\n",
              "</table>\n",
              "</div>\n",
              "      <button class=\"colab-df-convert\" onclick=\"convertToInteractive('df-350812f5-985b-40bf-bb86-6cf4eb0f3b06')\"\n",
              "              title=\"Convert this dataframe to an interactive table.\"\n",
              "              style=\"display:none;\">\n",
              "        \n",
              "  <svg xmlns=\"http://www.w3.org/2000/svg\" height=\"24px\"viewBox=\"0 0 24 24\"\n",
              "       width=\"24px\">\n",
              "    <path d=\"M0 0h24v24H0V0z\" fill=\"none\"/>\n",
              "    <path d=\"M18.56 5.44l.94 2.06.94-2.06 2.06-.94-2.06-.94-.94-2.06-.94 2.06-2.06.94zm-11 1L8.5 8.5l.94-2.06 2.06-.94-2.06-.94L8.5 2.5l-.94 2.06-2.06.94zm10 10l.94 2.06.94-2.06 2.06-.94-2.06-.94-.94-2.06-.94 2.06-2.06.94z\"/><path d=\"M17.41 7.96l-1.37-1.37c-.4-.4-.92-.59-1.43-.59-.52 0-1.04.2-1.43.59L10.3 9.45l-7.72 7.72c-.78.78-.78 2.05 0 2.83L4 21.41c.39.39.9.59 1.41.59.51 0 1.02-.2 1.41-.59l7.78-7.78 2.81-2.81c.8-.78.8-2.07 0-2.86zM5.41 20L4 18.59l7.72-7.72 1.47 1.35L5.41 20z\"/>\n",
              "  </svg>\n",
              "      </button>\n",
              "      \n",
              "  <style>\n",
              "    .colab-df-container {\n",
              "      display:flex;\n",
              "      flex-wrap:wrap;\n",
              "      gap: 12px;\n",
              "    }\n",
              "\n",
              "    .colab-df-convert {\n",
              "      background-color: #E8F0FE;\n",
              "      border: none;\n",
              "      border-radius: 50%;\n",
              "      cursor: pointer;\n",
              "      display: none;\n",
              "      fill: #1967D2;\n",
              "      height: 32px;\n",
              "      padding: 0 0 0 0;\n",
              "      width: 32px;\n",
              "    }\n",
              "\n",
              "    .colab-df-convert:hover {\n",
              "      background-color: #E2EBFA;\n",
              "      box-shadow: 0px 1px 2px rgba(60, 64, 67, 0.3), 0px 1px 3px 1px rgba(60, 64, 67, 0.15);\n",
              "      fill: #174EA6;\n",
              "    }\n",
              "\n",
              "    [theme=dark] .colab-df-convert {\n",
              "      background-color: #3B4455;\n",
              "      fill: #D2E3FC;\n",
              "    }\n",
              "\n",
              "    [theme=dark] .colab-df-convert:hover {\n",
              "      background-color: #434B5C;\n",
              "      box-shadow: 0px 1px 3px 1px rgba(0, 0, 0, 0.15);\n",
              "      filter: drop-shadow(0px 1px 2px rgba(0, 0, 0, 0.3));\n",
              "      fill: #FFFFFF;\n",
              "    }\n",
              "  </style>\n",
              "\n",
              "      <script>\n",
              "        const buttonEl =\n",
              "          document.querySelector('#df-350812f5-985b-40bf-bb86-6cf4eb0f3b06 button.colab-df-convert');\n",
              "        buttonEl.style.display =\n",
              "          google.colab.kernel.accessAllowed ? 'block' : 'none';\n",
              "\n",
              "        async function convertToInteractive(key) {\n",
              "          const element = document.querySelector('#df-350812f5-985b-40bf-bb86-6cf4eb0f3b06');\n",
              "          const dataTable =\n",
              "            await google.colab.kernel.invokeFunction('convertToInteractive',\n",
              "                                                     [key], {});\n",
              "          if (!dataTable) return;\n",
              "\n",
              "          const docLinkHtml = 'Like what you see? Visit the ' +\n",
              "            '<a target=\"_blank\" href=https://colab.research.google.com/notebooks/data_table.ipynb>data table notebook</a>'\n",
              "            + ' to learn more about interactive tables.';\n",
              "          element.innerHTML = '';\n",
              "          dataTable['output_type'] = 'display_data';\n",
              "          await google.colab.output.renderOutput(dataTable, element);\n",
              "          const docLink = document.createElement('div');\n",
              "          docLink.innerHTML = docLinkHtml;\n",
              "          element.appendChild(docLink);\n",
              "        }\n",
              "      </script>\n",
              "    </div>\n",
              "  </div>\n",
              "  "
            ],
            "text/plain": [
              "      country continent  year  ...    gdpPercap  iso_alpha  iso_num\n",
              "60  Australia   Oceania  1952  ...  10039.59564        AUS       36\n",
              "61  Australia   Oceania  1957  ...  10949.64959        AUS       36\n",
              "62  Australia   Oceania  1962  ...  12217.22686        AUS       36\n",
              "63  Australia   Oceania  1967  ...  14526.12465        AUS       36\n",
              "64  Australia   Oceania  1972  ...  16788.62948        AUS       36\n",
              "\n",
              "[5 rows x 8 columns]"
            ]
          },
          "metadata": {},
          "execution_count": 22
        }
      ]
    },
    {
      "cell_type": "code",
      "source": [
        "data['US'].keys()"
      ],
      "metadata": {
        "colab": {
          "base_uri": "https://localhost:8080/"
        },
        "id": "GCtlda1UbZpV",
        "outputId": "ae1309cb-bdd9-47fa-aac3-c9f1b1f21c3d"
      },
      "execution_count": null,
      "outputs": [
        {
          "output_type": "execute_result",
          "data": {
            "text/plain": [
              "dict_keys(['confirmed_diff', 'deaths_diff'])"
            ]
          },
          "metadata": {},
          "execution_count": 6
        }
      ]
    },
    {
      "cell_type": "code",
      "source": [
        "data = load_cache(f\"{path}/data/cache_final.p\")"
      ],
      "metadata": {
        "id": "861fpg7rU54A"
      },
      "execution_count": null,
      "outputs": []
    },
    {
      "cell_type": "code",
      "source": [
        "import datetime\n",
        "temp = data['dates'][-1]\n",
        "latest_cache_date = datetime.datetime.strptime(temp, '%Y-%m-%d')\n",
        "\n",
        "(datetime.datetime.strptime(datetime.datetime.now(timezone('Canada/Eastern')).strftime('%Y-%m-%d'), '%Y-%m-%d') > \n",
        " (latest_cache_date + datetime.timedelta(days=1)))"
      ],
      "metadata": {
        "colab": {
          "base_uri": "https://localhost:8080/"
        },
        "id": "gGTABl2-LqDC",
        "outputId": "b88619f8-854b-46af-c668-2854a4d6d216"
      },
      "execution_count": null,
      "outputs": [
        {
          "output_type": "execute_result",
          "data": {
            "text/plain": [
              "False"
            ]
          },
          "metadata": {},
          "execution_count": 156
        }
      ]
    },
    {
      "cell_type": "code",
      "source": [
        "list(data.keys())[-11:]"
      ],
      "metadata": {
        "colab": {
          "base_uri": "https://localhost:8080/"
        },
        "id": "E14LMQKGMAJ9",
        "outputId": "0d0d9d35-5c10-4c77-aef6-33e2785cacf9"
      },
      "execution_count": null,
      "outputs": [
        {
          "output_type": "execute_result",
          "data": {
            "text/plain": [
              "['dates',\n",
              " 'global_conf_diff',\n",
              " 'global_deaths_diff',\n",
              " 'global_new_cases',\n",
              " 'new_cases_per_rgn',\n",
              " 'top5_rgn_new_cases',\n",
              " 'top1_wk',\n",
              " 'top2_wk',\n",
              " 'top3_wk',\n",
              " 'top4_wk',\n",
              " 'top5_wk']"
            ]
          },
          "metadata": {},
          "execution_count": 159
        }
      ]
    },
    {
      "cell_type": "code",
      "source": [
        "data['top5_rgn_new_cases']"
      ],
      "metadata": {
        "colab": {
          "base_uri": "https://localhost:8080/"
        },
        "id": "VfFLHcqCwzfw",
        "outputId": "3e118e8a-171d-47be-ae46-5be9492adf11"
      },
      "execution_count": null,
      "outputs": [
        {
          "output_type": "execute_result",
          "data": {
            "text/plain": [
              "[('US', 970285.0),\n",
              " ('France', 225521.7142857143),\n",
              " ('Spain', 179223.42857142858),\n",
              " ('Italy', 147744.0),\n",
              " ('United Kingdom', 145149.42857142858)]"
            ]
          },
          "metadata": {},
          "execution_count": 9
        }
      ]
    },
    {
      "cell_type": "code",
      "source": [
        "from pytz import timezone\n",
        "datetime.datetime.now(timezone('Canada/Eastern')).strftime('%Y-%m-%d') > temp"
      ],
      "metadata": {
        "colab": {
          "base_uri": "https://localhost:8080/"
        },
        "id": "hNUq9vRf-WUi",
        "outputId": "22c2f859-32d6-40d7-f711-e27951fee2c6"
      },
      "execution_count": null,
      "outputs": [
        {
          "output_type": "execute_result",
          "data": {
            "text/plain": [
              "True"
            ]
          },
          "metadata": {},
          "execution_count": 150
        }
      ]
    },
    {
      "cell_type": "code",
      "source": [
        "data['dates'] = np.array(get_dates_till_today('2021-11-01'))"
      ],
      "metadata": {
        "id": "CdEE6YoCU6fj"
      },
      "execution_count": null,
      "outputs": []
    },
    {
      "cell_type": "code",
      "source": [
        "data['US'].keys()"
      ],
      "metadata": {
        "colab": {
          "base_uri": "https://localhost:8080/"
        },
        "id": "u2PYCUh-U_xF",
        "outputId": "48bf86bc-52c7-43b1-afc1-38effa67f1f2"
      },
      "execution_count": null,
      "outputs": [
        {
          "output_type": "execute_result",
          "data": {
            "text/plain": [
              "dict_keys(['confirmed_diff', 'deaths_diff'])"
            ]
          },
          "metadata": {},
          "execution_count": 110
        }
      ]
    },
    {
      "cell_type": "code",
      "source": [
        "\n"
      ],
      "metadata": {
        "id": "EF9CFKznVAJX"
      },
      "execution_count": null,
      "outputs": []
    },
    {
      "cell_type": "code",
      "source": [
        ""
      ],
      "metadata": {
        "id": "Jb6gpH0gWWQ8"
      },
      "execution_count": null,
      "outputs": []
    },
    {
      "cell_type": "code",
      "source": [
        "loaded_data = load_cache(f\"{path}/data/cache_clean.p\")\n",
        "#Remove ['Others','Cruise Ship'] from loaded data\n",
        "for k in ['Others','Cruise Ship']:\n",
        "  del loaded_data[k]\n",
        "print(len(loaded_data))"
      ],
      "metadata": {
        "colab": {
          "base_uri": "https://localhost:8080/"
        },
        "id": "2Q7P7n-y8Ppq",
        "outputId": "9898deac-e558-4345-e96b-7aa2ddff998c"
      },
      "execution_count": null,
      "outputs": [
        {
          "output_type": "stream",
          "name": "stdout",
          "text": [
            "216\n"
          ]
        }
      ]
    },
    {
      "cell_type": "code",
      "source": [
        "#Cache the latest version of data from 2021-11-01 to 2022-01-10\n",
        "cache_data(data)"
      ],
      "metadata": {
        "id": "U2xLznDzOgm-"
      },
      "execution_count": null,
      "outputs": []
    },
    {
      "cell_type": "code",
      "source": [
        "#Add gobal data to loaded data\n",
        "loaded_data['global_conf_diff'] = result['global_conf_diff']\n",
        "loaded_data['global_deaths_diff'] = result['global_deaths_diff']\n",
        "#New cases equals to the average of confirmed cases over the last 7 days\n",
        "loaded_data['global_new_cases'] = [np.mean(loaded_data['global_conf_diff'][-8:-1]), np.mean(loaded_data['global_conf_diff'][-7:])]\n",
        "loaded_data['new_cases_per_rgn'] = {k:np.mean(loaded_data[k]['confirmed_diff'][-7:]) for k in regions}\n",
        "loaded_data['top5_rgn_new_cases'] = sorted(loaded_data['new_cases_per_rgn'].items(), key=lambda x: x[1], reverse=True)[:5]\n",
        "#Get the data for the latest 1 to 5 weeks\n",
        "for i in range(1,6):\n",
        "  loaded_data[f\"top{i}_wk\"] = get_latest_weekly_data(loaded_data, regions, i)\n"
      ],
      "metadata": {
        "id": "veS5c44fMPeo"
      },
      "execution_count": null,
      "outputs": []
    },
    {
      "cell_type": "code",
      "source": [
        ""
      ],
      "metadata": {
        "id": "cL2380XzXQ8j"
      },
      "execution_count": null,
      "outputs": []
    },
    {
      "cell_type": "code",
      "source": [
        "def get_worldwide_data(date):\n",
        "    url = \"https://covid-19-statistics.p.rapidapi.com\"\n",
        "    headers = {\n",
        "        'x-rapidapi-host': 'covid-19-statistics.p.rapidapi.com',\n",
        "        'x-rapidapi-key': '44e824ba26mshbd88513db1a43d3p174f66jsn2f60602ce307'\n",
        "    }\n",
        "    #Get countries names and iso\n",
        "    response = requests.request(method=\"GET\", url=f\"{url}/reports/total\",params={'date':date}, headers=headers)\n",
        "    #json.loads(response.text)['data']\n",
        "    response_json = json.loads(response.text)\n",
        "\n",
        "    if len(response_json) > 0:\n",
        "      return response_json['data']\n",
        "\n",
        "    return []"
      ],
      "metadata": {
        "id": "kygTR_C-NT-x"
      },
      "execution_count": null,
      "outputs": []
    },
    {
      "cell_type": "code",
      "source": [
        "yesterday_date = (datetime.datetime.today()-datetime.timedelta(days=1)).strftime('%Y-%m-%d')\n",
        "get_worldwide_data(yesterday_date)"
      ],
      "metadata": {
        "colab": {
          "base_uri": "https://localhost:8080/"
        },
        "id": "Zb-U2TfwUJhz",
        "outputId": "17b15bab-f0eb-4aad-f25e-3c4d038287b9"
      },
      "execution_count": null,
      "outputs": [
        {
          "output_type": "execute_result",
          "data": {
            "text/plain": [
              "{'active': 307959123,\n",
              " 'active_diff': 3140243,\n",
              " 'confirmed': 313463348,\n",
              " 'confirmed_diff': 3149620,\n",
              " 'date': '2022-01-11',\n",
              " 'deaths': 5504225,\n",
              " 'deaths_diff': 9377,\n",
              " 'fatality_rate': 0.0176,\n",
              " 'last_update': '2022-01-12 04:21:44',\n",
              " 'recovered': 0,\n",
              " 'recovered_diff': 0}"
            ]
          },
          "metadata": {},
          "execution_count": 74
        }
      ]
    },
    {
      "cell_type": "code",
      "source": [
        "last_update = datetime.datetime.strptime(get_worldwide_data(yesterday_date)['last_update'], \"%Y-%m-%d %H:%M:%S\")\n",
        "last_update.strftime('%A %B %d, %Y at %I:%M %p')\n",
        "\n"
      ],
      "metadata": {
        "colab": {
          "base_uri": "https://localhost:8080/",
          "height": 35
        },
        "id": "ZSyw1YBHpeLj",
        "outputId": "2399c18a-2851-470e-defd-17b18365a280"
      },
      "execution_count": null,
      "outputs": [
        {
          "output_type": "execute_result",
          "data": {
            "application/vnd.google.colaboratory.intrinsic+json": {
              "type": "string"
            },
            "text/plain": [
              "'Wednesday January 12, 2022 at 04:21 AM'"
            ]
          },
          "metadata": {},
          "execution_count": 78
        }
      ]
    },
    {
      "cell_type": "code",
      "source": [
        "datetime.datetime.strptime(, \"%Y-%m-%d\")"
      ],
      "metadata": {
        "id": "VfKVAtRW8T4G"
      },
      "execution_count": null,
      "outputs": []
    },
    {
      "cell_type": "code",
      "source": [
        "ww_dates = get_dates_till_today('2021-11-01')\n",
        "result = defaultdict(list)\n",
        "for date in ww_dates:\n",
        "  data = get_worldwide_data(date)\n",
        "  result['global_conf_diff'].append(data['confirmed_diff'])\n",
        "  result['global_deaths_diff'].append(data['deaths_diff'])\n",
        "result"
      ],
      "metadata": {
        "colab": {
          "base_uri": "https://localhost:8080/"
        },
        "id": "0ALVvItaNyu4",
        "outputId": "c88bb883-4c48-488c-fb60-21719526210c"
      },
      "execution_count": null,
      "outputs": [
        {
          "output_type": "execute_result",
          "data": {
            "text/plain": [
              "defaultdict(list,\n",
              "            {'global_conf_diff': [429078,\n",
              "              444557,\n",
              "              506137,\n",
              "              526304,\n",
              "              527698,\n",
              "              404214,\n",
              "              328200,\n",
              "              491034,\n",
              "              478090,\n",
              "              571367,\n",
              "              534372,\n",
              "              572515,\n",
              "              445068,\n",
              "              362037,\n",
              "              539814,\n",
              "              511049,\n",
              "              620221,\n",
              "              1069082,\n",
              "              630160,\n",
              "              466500,\n",
              "              389081,\n",
              "              721490,\n",
              "              523767,\n",
              "              672494,\n",
              "              588692,\n",
              "              596722,\n",
              "              415822,\n",
              "              429441,\n",
              "              678657,\n",
              "              623124,\n",
              "              703436,\n",
              "              701520,\n",
              "              721825,\n",
              "              447485,\n",
              "              482992,\n",
              "              594677,\n",
              "              701169,\n",
              "              669745,\n",
              "              729521,\n",
              "              618428,\n",
              "              559938,\n",
              "              419474,\n",
              "              630403,\n",
              "              684135,\n",
              "              735201,\n",
              "              714524,\n",
              "              756347,\n",
              "              545572,\n",
              "              482237,\n",
              "              764742,\n",
              "              775125,\n",
              "              917714,\n",
              "              983385,\n",
              "              747125,\n",
              "              584538,\n",
              "              476094,\n",
              "              1449442,\n",
              "              1396534,\n",
              "              1726677,\n",
              "              2005782,\n",
              "              1649850,\n",
              "              1078751,\n",
              "              860495,\n",
              "              2391054,\n",
              "              2646705,\n",
              "              2501592,\n",
              "              2521417,\n",
              "              2826244,\n",
              "              2001911,\n",
              "              2140330,\n",
              "              3172964],\n",
              "             'global_deaths_diff': [6018,\n",
              "              7953,\n",
              "              7861,\n",
              "              7873,\n",
              "              9047,\n",
              "              6423,\n",
              "              4212,\n",
              "              6605,\n",
              "              8260,\n",
              "              8232,\n",
              "              7886,\n",
              "              8452,\n",
              "              7122,\n",
              "              4781,\n",
              "              6542,\n",
              "              7686,\n",
              "              8957,\n",
              "              8213,\n",
              "              8769,\n",
              "              5642,\n",
              "              4465,\n",
              "              8575,\n",
              "              6908,\n",
              "              8553,\n",
              "              7294,\n",
              "              6988,\n",
              "              5580,\n",
              "              5068,\n",
              "              7812,\n",
              "              7894,\n",
              "              8887,\n",
              "              10005,\n",
              "              8750,\n",
              "              5687,\n",
              "              7028,\n",
              "              6708,\n",
              "              8683,\n",
              "              8002,\n",
              "              8493,\n",
              "              7957,\n",
              "              5917,\n",
              "              4381,\n",
              "              6273,\n",
              "              8513,\n",
              "              8961,\n",
              "              6719,\n",
              "              7922,\n",
              "              5522,\n",
              "              4625,\n",
              "              6551,\n",
              "              7968,\n",
              "              7920,\n",
              "              9527,\n",
              "              6113,\n",
              "              4259,\n",
              "              3315,\n",
              "              6548,\n",
              "              7386,\n",
              "              7913,\n",
              "              7500,\n",
              "              6851,\n",
              "              4038,\n",
              "              3240,\n",
              "              5851,\n",
              "              7575,\n",
              "              7980,\n",
              "              7404,\n",
              "              7125,\n",
              "              4863,\n",
              "              4346,\n",
              "              6251]})"
            ]
          },
          "metadata": {},
          "execution_count": 47
        }
      ]
    },
    {
      "cell_type": "code",
      "source": [
        "get_worldwide_data('2021-11-01')['confirmed_diff']"
      ],
      "metadata": {
        "colab": {
          "base_uri": "https://localhost:8080/"
        },
        "id": "iJNyNUrm8YPK",
        "outputId": "8ab556ab-51b8-443a-9e13-a83fa2b5e932"
      },
      "execution_count": null,
      "outputs": [
        {
          "output_type": "execute_result",
          "data": {
            "text/plain": [
              "429078"
            ]
          },
          "metadata": {},
          "execution_count": 46
        }
      ]
    },
    {
      "cell_type": "code",
      "source": [
        "def load_cache(filepath):\n",
        "  #Check first if there is a cached file and if it can be accessed\n",
        "  if os.path.isfile(filepath) and os.access(filepath, os.R_OK):\n",
        "    with open(filepath, 'rb') as fp:\n",
        "      return pickle5.load(fp)\n",
        "    \n",
        "\n",
        "def cache_data(data):\n",
        "  #if (datetime.datetime.today()-datetime.timedelta(days=1)) > datetime.datetime.strptime(latest_date, '%Y-%m-%d'):\n",
        "  #new_dates = get_dates_till_today(latest_date)\n",
        "  #if len(new_dates)>0:\n",
        "  cache = data.copy()\n",
        "  with open(f\"{path}/data/cache_final.p\", 'wb') as fp:\n",
        "    pickle.dump(cache, fp, protocol=pickle.HIGHEST_PROTOCOL)"
      ],
      "metadata": {
        "id": "UonbBpYx3hf0"
      },
      "execution_count": null,
      "outputs": []
    },
    {
      "cell_type": "code",
      "source": [
        "data = get_countries_data(regions, dates)\n",
        "\n",
        "cache_data(data)"
      ],
      "metadata": {
        "id": "j-g4w7TNQeFS"
      },
      "execution_count": null,
      "outputs": []
    },
    {
      "cell_type": "code",
      "source": [
        "cached_data_v1 = load_cache(f\"{path}/data/cache_prev.p\")\n",
        "cached_data_v2 = load_cache(f\"{path}/data/cache.p\")"
      ],
      "metadata": {
        "id": "6XLl5TlfS4Q-"
      },
      "execution_count": null,
      "outputs": []
    },
    {
      "cell_type": "code",
      "source": [
        "clean_data = dict()\n",
        "for region in regions:\n",
        "  t1 = cached_data_v1[region] + [data_v1[region][-1]]\n",
        "  t2 = cached_data_v2[region][:-1] + data_v2[region]\n",
        "  clean_data[region] = t1 + t2"
      ],
      "metadata": {
        "id": "SXa6THhGuWDU"
      },
      "execution_count": null,
      "outputs": []
    },
    {
      "cell_type": "code",
      "source": [
        "get_region_dataframe('US', clean_data)"
      ],
      "metadata": {
        "colab": {
          "base_uri": "https://localhost:8080/",
          "height": 424
        },
        "id": "Yo20hIDa0NFE",
        "outputId": "213902de-9544-421e-cbf8-f48737e15854"
      },
      "execution_count": null,
      "outputs": [
        {
          "output_type": "execute_result",
          "data": {
            "text/html": [
              "\n",
              "  <div id=\"df-9c4782fb-2814-4134-b30b-4c50e2494216\">\n",
              "    <div class=\"colab-df-container\">\n",
              "      <div>\n",
              "<style scoped>\n",
              "    .dataframe tbody tr th:only-of-type {\n",
              "        vertical-align: middle;\n",
              "    }\n",
              "\n",
              "    .dataframe tbody tr th {\n",
              "        vertical-align: top;\n",
              "    }\n",
              "\n",
              "    .dataframe thead th {\n",
              "        text-align: right;\n",
              "    }\n",
              "</style>\n",
              "<table border=\"1\" class=\"dataframe\">\n",
              "  <thead>\n",
              "    <tr style=\"text-align: right;\">\n",
              "      <th></th>\n",
              "      <th>confirmed</th>\n",
              "      <th>deaths</th>\n",
              "      <th>date</th>\n",
              "      <th>confirmed_diff</th>\n",
              "      <th>year_week</th>\n",
              "      <th>new_cases</th>\n",
              "      <th>min_confirmed</th>\n",
              "      <th>max_confirmed</th>\n",
              "      <th>min_deaths</th>\n",
              "      <th>max_deaths</th>\n",
              "    </tr>\n",
              "  </thead>\n",
              "  <tbody>\n",
              "    <tr>\n",
              "      <th>0</th>\n",
              "      <td>59767221</td>\n",
              "      <td>837262</td>\n",
              "      <td>2022-01-08</td>\n",
              "      <td>378692</td>\n",
              "      <td>(2022, 1)</td>\n",
              "      <td>775527.333333</td>\n",
              "      <td>56190946</td>\n",
              "      <td>59767221</td>\n",
              "      <td>827753</td>\n",
              "      <td>837262</td>\n",
              "    </tr>\n",
              "    <tr>\n",
              "      <th>1</th>\n",
              "      <td>59388529</td>\n",
              "      <td>836603</td>\n",
              "      <td>2022-01-07</td>\n",
              "      <td>900864</td>\n",
              "      <td>(2022, 1)</td>\n",
              "      <td>775527.333333</td>\n",
              "      <td>56190946</td>\n",
              "      <td>59767221</td>\n",
              "      <td>827753</td>\n",
              "      <td>837262</td>\n",
              "    </tr>\n",
              "    <tr>\n",
              "      <th>2</th>\n",
              "      <td>58487665</td>\n",
              "      <td>833987</td>\n",
              "      <td>2022-01-06</td>\n",
              "      <td>785288</td>\n",
              "      <td>(2022, 1)</td>\n",
              "      <td>775527.333333</td>\n",
              "      <td>56190946</td>\n",
              "      <td>59767221</td>\n",
              "      <td>827753</td>\n",
              "      <td>837262</td>\n",
              "    </tr>\n",
              "    <tr>\n",
              "      <th>3</th>\n",
              "      <td>57702377</td>\n",
              "      <td>832118</td>\n",
              "      <td>2022-01-05</td>\n",
              "      <td>653577</td>\n",
              "      <td>(2022, 1)</td>\n",
              "      <td>775527.333333</td>\n",
              "      <td>56190946</td>\n",
              "      <td>59767221</td>\n",
              "      <td>827753</td>\n",
              "      <td>837262</td>\n",
              "    </tr>\n",
              "    <tr>\n",
              "      <th>4</th>\n",
              "      <td>57048800</td>\n",
              "      <td>830071</td>\n",
              "      <td>2022-01-04</td>\n",
              "      <td>857854</td>\n",
              "      <td>(2022, 1)</td>\n",
              "      <td>775527.333333</td>\n",
              "      <td>56190946</td>\n",
              "      <td>59767221</td>\n",
              "      <td>827753</td>\n",
              "      <td>837262</td>\n",
              "    </tr>\n",
              "    <tr>\n",
              "      <th>...</th>\n",
              "      <td>...</td>\n",
              "      <td>...</td>\n",
              "      <td>...</td>\n",
              "      <td>...</td>\n",
              "      <td>...</td>\n",
              "      <td>...</td>\n",
              "      <td>...</td>\n",
              "      <td>...</td>\n",
              "      <td>...</td>\n",
              "      <td>...</td>\n",
              "    </tr>\n",
              "    <tr>\n",
              "      <th>64</th>\n",
              "      <td>46435967</td>\n",
              "      <td>753926</td>\n",
              "      <td>2021-11-05</td>\n",
              "      <td>101111</td>\n",
              "      <td>(2021, 44)</td>\n",
              "      <td>73858.000000</td>\n",
              "      <td>46091924</td>\n",
              "      <td>46487791</td>\n",
              "      <td>747033</td>\n",
              "      <td>754429</td>\n",
              "    </tr>\n",
              "    <tr>\n",
              "      <th>65</th>\n",
              "      <td>46334856</td>\n",
              "      <td>751555</td>\n",
              "      <td>2021-11-04</td>\n",
              "      <td>82343</td>\n",
              "      <td>(2021, 44)</td>\n",
              "      <td>73858.000000</td>\n",
              "      <td>46091924</td>\n",
              "      <td>46487791</td>\n",
              "      <td>747033</td>\n",
              "      <td>754429</td>\n",
              "    </tr>\n",
              "    <tr>\n",
              "      <th>66</th>\n",
              "      <td>46252513</td>\n",
              "      <td>750423</td>\n",
              "      <td>2021-11-03</td>\n",
              "      <td>83501</td>\n",
              "      <td>(2021, 44)</td>\n",
              "      <td>73858.000000</td>\n",
              "      <td>46091924</td>\n",
              "      <td>46487791</td>\n",
              "      <td>747033</td>\n",
              "      <td>754429</td>\n",
              "    </tr>\n",
              "    <tr>\n",
              "      <th>67</th>\n",
              "      <td>46169012</td>\n",
              "      <td>748518</td>\n",
              "      <td>2021-11-02</td>\n",
              "      <td>77088</td>\n",
              "      <td>(2021, 44)</td>\n",
              "      <td>73858.000000</td>\n",
              "      <td>46091924</td>\n",
              "      <td>46487791</td>\n",
              "      <td>747033</td>\n",
              "      <td>754429</td>\n",
              "    </tr>\n",
              "    <tr>\n",
              "      <th>68</th>\n",
              "      <td>46091924</td>\n",
              "      <td>747033</td>\n",
              "      <td>2021-11-01</td>\n",
              "      <td>121139</td>\n",
              "      <td>(2021, 44)</td>\n",
              "      <td>73858.000000</td>\n",
              "      <td>46091924</td>\n",
              "      <td>46487791</td>\n",
              "      <td>747033</td>\n",
              "      <td>754429</td>\n",
              "    </tr>\n",
              "  </tbody>\n",
              "</table>\n",
              "<p>69 rows × 10 columns</p>\n",
              "</div>\n",
              "      <button class=\"colab-df-convert\" onclick=\"convertToInteractive('df-9c4782fb-2814-4134-b30b-4c50e2494216')\"\n",
              "              title=\"Convert this dataframe to an interactive table.\"\n",
              "              style=\"display:none;\">\n",
              "        \n",
              "  <svg xmlns=\"http://www.w3.org/2000/svg\" height=\"24px\"viewBox=\"0 0 24 24\"\n",
              "       width=\"24px\">\n",
              "    <path d=\"M0 0h24v24H0V0z\" fill=\"none\"/>\n",
              "    <path d=\"M18.56 5.44l.94 2.06.94-2.06 2.06-.94-2.06-.94-.94-2.06-.94 2.06-2.06.94zm-11 1L8.5 8.5l.94-2.06 2.06-.94-2.06-.94L8.5 2.5l-.94 2.06-2.06.94zm10 10l.94 2.06.94-2.06 2.06-.94-2.06-.94-.94-2.06-.94 2.06-2.06.94z\"/><path d=\"M17.41 7.96l-1.37-1.37c-.4-.4-.92-.59-1.43-.59-.52 0-1.04.2-1.43.59L10.3 9.45l-7.72 7.72c-.78.78-.78 2.05 0 2.83L4 21.41c.39.39.9.59 1.41.59.51 0 1.02-.2 1.41-.59l7.78-7.78 2.81-2.81c.8-.78.8-2.07 0-2.86zM5.41 20L4 18.59l7.72-7.72 1.47 1.35L5.41 20z\"/>\n",
              "  </svg>\n",
              "      </button>\n",
              "      \n",
              "  <style>\n",
              "    .colab-df-container {\n",
              "      display:flex;\n",
              "      flex-wrap:wrap;\n",
              "      gap: 12px;\n",
              "    }\n",
              "\n",
              "    .colab-df-convert {\n",
              "      background-color: #E8F0FE;\n",
              "      border: none;\n",
              "      border-radius: 50%;\n",
              "      cursor: pointer;\n",
              "      display: none;\n",
              "      fill: #1967D2;\n",
              "      height: 32px;\n",
              "      padding: 0 0 0 0;\n",
              "      width: 32px;\n",
              "    }\n",
              "\n",
              "    .colab-df-convert:hover {\n",
              "      background-color: #E2EBFA;\n",
              "      box-shadow: 0px 1px 2px rgba(60, 64, 67, 0.3), 0px 1px 3px 1px rgba(60, 64, 67, 0.15);\n",
              "      fill: #174EA6;\n",
              "    }\n",
              "\n",
              "    [theme=dark] .colab-df-convert {\n",
              "      background-color: #3B4455;\n",
              "      fill: #D2E3FC;\n",
              "    }\n",
              "\n",
              "    [theme=dark] .colab-df-convert:hover {\n",
              "      background-color: #434B5C;\n",
              "      box-shadow: 0px 1px 3px 1px rgba(0, 0, 0, 0.15);\n",
              "      filter: drop-shadow(0px 1px 2px rgba(0, 0, 0, 0.3));\n",
              "      fill: #FFFFFF;\n",
              "    }\n",
              "  </style>\n",
              "\n",
              "      <script>\n",
              "        const buttonEl =\n",
              "          document.querySelector('#df-9c4782fb-2814-4134-b30b-4c50e2494216 button.colab-df-convert');\n",
              "        buttonEl.style.display =\n",
              "          google.colab.kernel.accessAllowed ? 'block' : 'none';\n",
              "\n",
              "        async function convertToInteractive(key) {\n",
              "          const element = document.querySelector('#df-9c4782fb-2814-4134-b30b-4c50e2494216');\n",
              "          const dataTable =\n",
              "            await google.colab.kernel.invokeFunction('convertToInteractive',\n",
              "                                                     [key], {});\n",
              "          if (!dataTable) return;\n",
              "\n",
              "          const docLinkHtml = 'Like what you see? Visit the ' +\n",
              "            '<a target=\"_blank\" href=https://colab.research.google.com/notebooks/data_table.ipynb>data table notebook</a>'\n",
              "            + ' to learn more about interactive tables.';\n",
              "          element.innerHTML = '';\n",
              "          dataTable['output_type'] = 'display_data';\n",
              "          await google.colab.output.renderOutput(dataTable, element);\n",
              "          const docLink = document.createElement('div');\n",
              "          docLink.innerHTML = docLinkHtml;\n",
              "          element.appendChild(docLink);\n",
              "        }\n",
              "      </script>\n",
              "    </div>\n",
              "  </div>\n",
              "  "
            ],
            "text/plain": [
              "    confirmed  deaths        date  ...  max_confirmed min_deaths  max_deaths\n",
              "0    59767221  837262  2022-01-08  ...       59767221     827753      837262\n",
              "1    59388529  836603  2022-01-07  ...       59767221     827753      837262\n",
              "2    58487665  833987  2022-01-06  ...       59767221     827753      837262\n",
              "3    57702377  832118  2022-01-05  ...       59767221     827753      837262\n",
              "4    57048800  830071  2022-01-04  ...       59767221     827753      837262\n",
              "..        ...     ...         ...  ...            ...        ...         ...\n",
              "64   46435967  753926  2021-11-05  ...       46487791     747033      754429\n",
              "65   46334856  751555  2021-11-04  ...       46487791     747033      754429\n",
              "66   46252513  750423  2021-11-03  ...       46487791     747033      754429\n",
              "67   46169012  748518  2021-11-02  ...       46487791     747033      754429\n",
              "68   46091924  747033  2021-11-01  ...       46487791     747033      754429\n",
              "\n",
              "[69 rows x 10 columns]"
            ]
          },
          "metadata": {},
          "execution_count": 191
        }
      ]
    },
    {
      "cell_type": "code",
      "source": [
        "def get_region_dataframe(region, data):\n",
        "  df = pd.DataFrame(data[region])\n",
        "  #For the sake of fixing the latest data val\n",
        "  #df = df.iloc[:-1, :].reset_index(drop=True)\n",
        "  df[\"year_week\"] = df.apply(lambda x: datetime.datetime.strptime(x['date'], \"%Y-%m-%d\").isocalendar()[:2], axis=1)\n",
        "  df_new_cases = df.groupby(\"year_week\", as_index=False)[\"confirmed_diff\"].mean().rename(columns={'confirmed_diff': 'new_cases'})\n",
        "  df = df.merge(df_new_cases, how='left', on='year_week')\n",
        "  df['min_confirmed'] = df.groupby('year_week')['confirmed'].transform('min')\n",
        "  df['max_confirmed'] = df.groupby('year_week')['confirmed'].transform('max')\n",
        "  df['min_deaths'] = df.groupby('year_week')['deaths'].transform('min')\n",
        "  df['max_deaths'] = df.groupby('year_week')['deaths'].transform('max')\n",
        "  \n",
        "  return df\n",
        "\n",
        "#test_v1 = get_region_dataframe(\"US\", cached_data_v1)\n"
      ],
      "metadata": {
        "id": "wc9Mev_EWTFt"
      },
      "execution_count": null,
      "outputs": []
    },
    {
      "cell_type": "code",
      "source": [
        "result.keys()"
      ],
      "metadata": {
        "colab": {
          "base_uri": "https://localhost:8080/"
        },
        "id": "pTIpE_HA4WVt",
        "outputId": "02e22c19-fdbe-48ef-d98d-ccd857d478a9"
      },
      "execution_count": null,
      "outputs": [
        {
          "output_type": "execute_result",
          "data": {
            "text/plain": [
              "dict_keys(['2021-11-01', '2021-11-02', '2021-11-03', '2021-11-04', '2021-11-05', '2021-11-06', '2021-11-07', '2021-11-08', '2021-11-09', '2021-11-10', '2021-11-11', '2021-11-12', '2021-11-13', '2021-11-14', '2021-11-15', '2021-11-16', '2021-11-17', '2021-11-18', '2021-11-19', '2021-11-20', '2021-11-21', '2021-11-22', '2021-11-23', '2021-11-24', '2021-11-25', '2021-11-26', '2021-11-27', '2021-11-28', '2021-11-29', '2021-11-30', '2021-12-01', '2021-12-02', '2021-12-03', '2021-12-04', '2021-12-05', '2021-12-06', '2021-12-07', '2021-12-08', '2021-12-09', '2021-12-10', '2021-12-11', '2021-12-12', '2021-12-13', '2021-12-14', '2021-12-15', '2021-12-16', '2021-12-17', '2021-12-18', '2021-12-19', '2021-12-20', '2021-12-21', '2021-12-22', '2021-12-23', '2021-12-24', '2021-12-25', '2021-12-26', '2021-12-27', '2021-12-28', '2021-12-29', '2021-12-30', '2021-12-31', '2022-01-01', '2022-01-02', '2022-01-03', '2022-01-04', '2022-01-05', '2022-01-06', '2022-01-07', '2022-01-08'])"
            ]
          },
          "metadata": {},
          "execution_count": 196
        }
      ]
    },
    {
      "cell_type": "code",
      "source": [
        "def get_clean_cache(detailed_data, global_data, regions=regions, dates=dates):\n",
        "  #Clean the list of regions\n",
        "  regions = [x for x in regions if x not in ['Others','Cruise Ship']]\n",
        "\n",
        "  final_result = dict()\n",
        "  list_key_data = ['confirmed','deaths']\n",
        "  val_key_data = ['new_cases','min_confirmed','max_confirmed','min_deaths','max_deaths']\n",
        "\n",
        "  for region in regions:\n",
        "    region_df = get_region_dataframe(region, detailed_data)\n",
        "    temp = defaultdict(dict)\n",
        "    for yw in set(region_df.year_week):\n",
        "      for key in list_key_data:\n",
        "        temp[f\"{yw}\"][key] = list(region_df.loc[region_df.year_week==yw, key])\n",
        "      for key in val_key_data:\n",
        "        temp[f\"{yw}\"][key] = list(region_df.loc[region_df.year_week==yw, key])[0]\n",
        "      \n",
        "    final_result[region] = temp\n",
        "  \n",
        "  conf_global = [x['confirmed'] for x in global_data.values()]\n",
        "  deaths_global = [x['deaths'] for x in global_data.values()]\n",
        "  dates_global = list(global_data.keys())\n",
        "\n",
        "  final_result['confirmed_global']=conf_global\n",
        "  final_result['deaths_global']=deaths_global\n",
        "  final_result['dates_global']=dates_global\n",
        "\n",
        "  return final_result\n",
        "\n"
      ],
      "metadata": {
        "id": "CL_S24fs4WIv"
      },
      "execution_count": null,
      "outputs": []
    },
    {
      "cell_type": "code",
      "source": [
        "trial = get_clean_cache(clean_data, result)"
      ],
      "metadata": {
        "id": "ZlCf_1agBJpG"
      },
      "execution_count": null,
      "outputs": []
    },
    {
      "cell_type": "code",
      "source": [
        "def get_new_cases(data, region):\n",
        "  cached_weeks = sorted(data[region].keys())\n",
        "  latest_week = cached_weeks[-1]\n",
        "  prev_week = cached_weeks[-2]\n",
        "  latest_week_length = len(data[region][latest_week]['confirmed'])\n",
        "  prev_wk_idx = -1-(7-latest_week_length)\n",
        "\n",
        "  latest_wk_max = data[region][latest_week]['max_confirmed']\n",
        "  prev_week_val = data[region][prev_week]['confirmed'][prev_wk_idx]\n",
        "\n",
        "  return (latest_wk_max-prev_week_val)/7\n",
        "\n",
        "get_new_cases(trial, 'US')"
      ],
      "metadata": {
        "colab": {
          "base_uri": "https://localhost:8080/"
        },
        "id": "qPNgSr7MBr1u",
        "outputId": "4705e4dd-fe67-4421-f712-8421bbd4566b"
      },
      "execution_count": null,
      "outputs": [
        {
          "output_type": "execute_result",
          "data": {
            "text/plain": [
              "701036.4285714285"
            ]
          },
          "metadata": {},
          "execution_count": 256
        }
      ]
    },
    {
      "cell_type": "code",
      "source": [
        "def get_region_req_data(data, region, n_weeks, case_type):\n",
        "  cached_weeks = sorted(data[region].keys())\n",
        "  result = list()\n",
        "  i=n_weeks\n",
        "  while i > 0:\n",
        "    result.extend(data[region][cached_weeks[-i]][case_type])\n",
        "    i=i-1\n",
        "  return result\n",
        "\n",
        "t1 =  get_region_req_data(trial, 'US', 2, 'confirmed')\n",
        "dates_to_fetch = datetime.datetime.strptime(trial['dates_global'][-1], \"%Y-%m-%d\").isocalendar()[2]+ (num_weeks-1)*7\n",
        "t2 = trial['confirmed_global'][-dates_to_fetch:]\n",
        "print(t1)\n",
        "print(t2)\n",
        "print(len(t1)==len(t2))"
      ],
      "metadata": {
        "colab": {
          "base_uri": "https://localhost:8080/"
        },
        "id": "9wMn96cgClKe",
        "outputId": "f3818914-267e-464d-bf0f-fa23ffae3e86"
      },
      "execution_count": null,
      "outputs": [
        {
          "output_type": "stream",
          "name": "stdout",
          "text": [
            "[52793407, 53170421, 53659688, 54306755, 54743982, 54859966, 55114057, 56190946, 57048800, 57702377, 58487665, 59388529, 59767221]\n",
            "[281393422, 282789956, 284516633, 286522415, 288172265, 289251016, 290111511, 292502565, 295149270, 297650862, 300172279, 302998523, 305000434]\n",
            "True\n"
          ]
        }
      ]
    },
    {
      "cell_type": "code",
      "source": [
        "df = pd.read_csv('https://raw.githubusercontent.com/plotly/datasets/master/2014_world_gdp_with_codes.csv')\n",
        "df"
      ],
      "metadata": {
        "colab": {
          "base_uri": "https://localhost:8080/",
          "height": 424
        },
        "id": "JBt8dYeHCxmx",
        "outputId": "aac0a627-f4e0-4854-cbe8-f9202cd34b07"
      },
      "execution_count": null,
      "outputs": [
        {
          "output_type": "execute_result",
          "data": {
            "text/html": [
              "\n",
              "  <div id=\"df-faa05f3f-b2fa-4b3f-a133-cf4ac78b7934\">\n",
              "    <div class=\"colab-df-container\">\n",
              "      <div>\n",
              "<style scoped>\n",
              "    .dataframe tbody tr th:only-of-type {\n",
              "        vertical-align: middle;\n",
              "    }\n",
              "\n",
              "    .dataframe tbody tr th {\n",
              "        vertical-align: top;\n",
              "    }\n",
              "\n",
              "    .dataframe thead th {\n",
              "        text-align: right;\n",
              "    }\n",
              "</style>\n",
              "<table border=\"1\" class=\"dataframe\">\n",
              "  <thead>\n",
              "    <tr style=\"text-align: right;\">\n",
              "      <th></th>\n",
              "      <th>COUNTRY</th>\n",
              "      <th>GDP (BILLIONS)</th>\n",
              "      <th>CODE</th>\n",
              "    </tr>\n",
              "  </thead>\n",
              "  <tbody>\n",
              "    <tr>\n",
              "      <th>0</th>\n",
              "      <td>Afghanistan</td>\n",
              "      <td>21.71</td>\n",
              "      <td>AFG</td>\n",
              "    </tr>\n",
              "    <tr>\n",
              "      <th>1</th>\n",
              "      <td>Albania</td>\n",
              "      <td>13.40</td>\n",
              "      <td>ALB</td>\n",
              "    </tr>\n",
              "    <tr>\n",
              "      <th>2</th>\n",
              "      <td>Algeria</td>\n",
              "      <td>227.80</td>\n",
              "      <td>DZA</td>\n",
              "    </tr>\n",
              "    <tr>\n",
              "      <th>3</th>\n",
              "      <td>American Samoa</td>\n",
              "      <td>0.75</td>\n",
              "      <td>ASM</td>\n",
              "    </tr>\n",
              "    <tr>\n",
              "      <th>4</th>\n",
              "      <td>Andorra</td>\n",
              "      <td>4.80</td>\n",
              "      <td>AND</td>\n",
              "    </tr>\n",
              "    <tr>\n",
              "      <th>...</th>\n",
              "      <td>...</td>\n",
              "      <td>...</td>\n",
              "      <td>...</td>\n",
              "    </tr>\n",
              "    <tr>\n",
              "      <th>217</th>\n",
              "      <td>Virgin Islands</td>\n",
              "      <td>5.08</td>\n",
              "      <td>VGB</td>\n",
              "    </tr>\n",
              "    <tr>\n",
              "      <th>218</th>\n",
              "      <td>West Bank</td>\n",
              "      <td>6.64</td>\n",
              "      <td>WBG</td>\n",
              "    </tr>\n",
              "    <tr>\n",
              "      <th>219</th>\n",
              "      <td>Yemen</td>\n",
              "      <td>45.45</td>\n",
              "      <td>YEM</td>\n",
              "    </tr>\n",
              "    <tr>\n",
              "      <th>220</th>\n",
              "      <td>Zambia</td>\n",
              "      <td>25.61</td>\n",
              "      <td>ZMB</td>\n",
              "    </tr>\n",
              "    <tr>\n",
              "      <th>221</th>\n",
              "      <td>Zimbabwe</td>\n",
              "      <td>13.74</td>\n",
              "      <td>ZWE</td>\n",
              "    </tr>\n",
              "  </tbody>\n",
              "</table>\n",
              "<p>222 rows × 3 columns</p>\n",
              "</div>\n",
              "      <button class=\"colab-df-convert\" onclick=\"convertToInteractive('df-faa05f3f-b2fa-4b3f-a133-cf4ac78b7934')\"\n",
              "              title=\"Convert this dataframe to an interactive table.\"\n",
              "              style=\"display:none;\">\n",
              "        \n",
              "  <svg xmlns=\"http://www.w3.org/2000/svg\" height=\"24px\"viewBox=\"0 0 24 24\"\n",
              "       width=\"24px\">\n",
              "    <path d=\"M0 0h24v24H0V0z\" fill=\"none\"/>\n",
              "    <path d=\"M18.56 5.44l.94 2.06.94-2.06 2.06-.94-2.06-.94-.94-2.06-.94 2.06-2.06.94zm-11 1L8.5 8.5l.94-2.06 2.06-.94-2.06-.94L8.5 2.5l-.94 2.06-2.06.94zm10 10l.94 2.06.94-2.06 2.06-.94-2.06-.94-.94-2.06-.94 2.06-2.06.94z\"/><path d=\"M17.41 7.96l-1.37-1.37c-.4-.4-.92-.59-1.43-.59-.52 0-1.04.2-1.43.59L10.3 9.45l-7.72 7.72c-.78.78-.78 2.05 0 2.83L4 21.41c.39.39.9.59 1.41.59.51 0 1.02-.2 1.41-.59l7.78-7.78 2.81-2.81c.8-.78.8-2.07 0-2.86zM5.41 20L4 18.59l7.72-7.72 1.47 1.35L5.41 20z\"/>\n",
              "  </svg>\n",
              "      </button>\n",
              "      \n",
              "  <style>\n",
              "    .colab-df-container {\n",
              "      display:flex;\n",
              "      flex-wrap:wrap;\n",
              "      gap: 12px;\n",
              "    }\n",
              "\n",
              "    .colab-df-convert {\n",
              "      background-color: #E8F0FE;\n",
              "      border: none;\n",
              "      border-radius: 50%;\n",
              "      cursor: pointer;\n",
              "      display: none;\n",
              "      fill: #1967D2;\n",
              "      height: 32px;\n",
              "      padding: 0 0 0 0;\n",
              "      width: 32px;\n",
              "    }\n",
              "\n",
              "    .colab-df-convert:hover {\n",
              "      background-color: #E2EBFA;\n",
              "      box-shadow: 0px 1px 2px rgba(60, 64, 67, 0.3), 0px 1px 3px 1px rgba(60, 64, 67, 0.15);\n",
              "      fill: #174EA6;\n",
              "    }\n",
              "\n",
              "    [theme=dark] .colab-df-convert {\n",
              "      background-color: #3B4455;\n",
              "      fill: #D2E3FC;\n",
              "    }\n",
              "\n",
              "    [theme=dark] .colab-df-convert:hover {\n",
              "      background-color: #434B5C;\n",
              "      box-shadow: 0px 1px 3px 1px rgba(0, 0, 0, 0.15);\n",
              "      filter: drop-shadow(0px 1px 2px rgba(0, 0, 0, 0.3));\n",
              "      fill: #FFFFFF;\n",
              "    }\n",
              "  </style>\n",
              "\n",
              "      <script>\n",
              "        const buttonEl =\n",
              "          document.querySelector('#df-faa05f3f-b2fa-4b3f-a133-cf4ac78b7934 button.colab-df-convert');\n",
              "        buttonEl.style.display =\n",
              "          google.colab.kernel.accessAllowed ? 'block' : 'none';\n",
              "\n",
              "        async function convertToInteractive(key) {\n",
              "          const element = document.querySelector('#df-faa05f3f-b2fa-4b3f-a133-cf4ac78b7934');\n",
              "          const dataTable =\n",
              "            await google.colab.kernel.invokeFunction('convertToInteractive',\n",
              "                                                     [key], {});\n",
              "          if (!dataTable) return;\n",
              "\n",
              "          const docLinkHtml = 'Like what you see? Visit the ' +\n",
              "            '<a target=\"_blank\" href=https://colab.research.google.com/notebooks/data_table.ipynb>data table notebook</a>'\n",
              "            + ' to learn more about interactive tables.';\n",
              "          element.innerHTML = '';\n",
              "          dataTable['output_type'] = 'display_data';\n",
              "          await google.colab.output.renderOutput(dataTable, element);\n",
              "          const docLink = document.createElement('div');\n",
              "          docLink.innerHTML = docLinkHtml;\n",
              "          element.appendChild(docLink);\n",
              "        }\n",
              "      </script>\n",
              "    </div>\n",
              "  </div>\n",
              "  "
            ],
            "text/plain": [
              "            COUNTRY  GDP (BILLIONS) CODE\n",
              "0       Afghanistan           21.71  AFG\n",
              "1           Albania           13.40  ALB\n",
              "2           Algeria          227.80  DZA\n",
              "3    American Samoa            0.75  ASM\n",
              "4           Andorra            4.80  AND\n",
              "..              ...             ...  ...\n",
              "217  Virgin Islands            5.08  VGB\n",
              "218       West Bank            6.64  WBG\n",
              "219           Yemen           45.45  YEM\n",
              "220          Zambia           25.61  ZMB\n",
              "221        Zimbabwe           13.74  ZWE\n",
              "\n",
              "[222 rows x 3 columns]"
            ]
          },
          "metadata": {},
          "execution_count": 116
        }
      ]
    },
    {
      "cell_type": "code",
      "source": [
        "def get_string_date_from_weeknum(data):\n",
        "  d = f\"{data[0]}-W{data[1]}\"\n",
        "  week_of = datetime.datetime.strptime(d + '-1', \"%Y-W%W-%w\").strftime('%Y/%m/%d')\n",
        "  return week_of\n",
        "\n",
        "def get_case_specific_df(case_type, data, n_weeks):\n",
        "\n",
        "  regions_iso = {k:v for k,v in list(zip(df_regions['name'], df_regions['iso'])) if v not in ['Others','cruise']}\n",
        "  home_data = defaultdict(list)\n",
        "  \n",
        "  for region in regions_iso.keys():\n",
        "    temp_df = get_new_cases(n_weeks, get_region_dataframe(region, data))\n",
        "    #Create a dictionary with data for all regions\n",
        "    home_data['confirmed'].append(temp_df['confirmed'].sum())\n",
        "    home_data['deaths'].append(temp_df['deaths'].sum())\n",
        "    home_data['new_cases'].append(temp_df['new_cases'].sum())\n",
        "  \n",
        "  #Get iso codes and names\n",
        "  iso_codes = list(regions_iso.values())\n",
        "  region_names = list(regions_iso.keys())\n",
        "\n",
        "  if case_type == 'confirmed':\n",
        "    return region_names, iso_codes, home_data['confirmed']\n",
        "  elif case_type == 'deaths':\n",
        "    return region_names, iso_codes, home_data['deaths']\n",
        "  elif case_type == 'new_cases':\n",
        "    return region_names, iso_codes, home_data['new_cases']\n",
        "  else:\n",
        "    pass\n",
        "\n"
      ],
      "metadata": {
        "id": "lfr59KMg_0lh"
      },
      "execution_count": null,
      "outputs": []
    },
    {
      "cell_type": "code",
      "source": [
        ""
      ],
      "metadata": {
        "id": "tDiBxjHHQjUU"
      },
      "execution_count": null,
      "outputs": []
    },
    {
      "cell_type": "code",
      "source": [
        "country_names, iso, case_type_data = get_case_specific_df('confirmed', cached_data)\n",
        "weeks = get_case_specific_df('week_range', cached_data)\n",
        "\n",
        "fig = go.Figure(data=go.Choropleth(\n",
        "    locations = iso,\n",
        "    z = case_type_data,\n",
        "    text = country_names,\n",
        "    colorscale = 'Blues',\n",
        "    autocolorscale=False,\n",
        "    reversescale=True,\n",
        "    marker_line_color='darkgray',\n",
        "    marker_line_width=0.5,\n",
        "    colorbar_title = \"Number of<br>COVID19 cases\",\n",
        "))\n",
        "\n",
        "fig.update_layout(\n",
        "    title_text= f\"Number of COVID19 cases for the last {len(weeks)} weeks\",\n",
        "    geo=dict(\n",
        "        showframe=False,\n",
        "        showcoastlines=False,\n",
        "        projection_type='equirectangular'\n",
        "    )\n",
        ")\n",
        "\n",
        "fig.show()"
      ],
      "metadata": {
        "colab": {
          "base_uri": "https://localhost:8080/"
        },
        "id": "8oj-Ql-TR-Gd",
        "outputId": "4705c852-a293-4ecd-d90a-e338d6fec634"
      },
      "execution_count": null,
      "outputs": [
        {
          "output_type": "execute_result",
          "data": {
            "text/plain": [
              "['VAT',\n",
              " 'GGY-JEY',\n",
              " 'MYT',\n",
              " 'ESH',\n",
              " 'RKS',\n",
              " 'PSE',\n",
              " 'REU',\n",
              " 'GUF',\n",
              " 'MTQ',\n",
              " 'GLP',\n",
              " 'NA-SHIP-MSZ',\n",
              " 'BHS',\n",
              " 'BLM',\n",
              " 'NA-SHIP-DP']"
            ]
          },
          "metadata": {},
          "execution_count": 119
        }
      ]
    }
  ]
}